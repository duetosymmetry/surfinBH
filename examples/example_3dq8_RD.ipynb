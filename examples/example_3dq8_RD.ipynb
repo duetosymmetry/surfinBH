{
 "cells": [
  {
   "cell_type": "markdown",
   "metadata": {},
   "source": [
    "# Example usage of NRSur3dq8_RD fit."
   ]
  },
  {
   "cell_type": "code",
   "execution_count": 1,
   "metadata": {},
   "outputs": [],
   "source": [
    "# Silence an annoying lal warning\n",
    "import warnings\n",
    "warnings.filterwarnings(\"ignore\", \"Wswiglal-redir-stdio\")"
   ]
  },
  {
   "cell_type": "code",
   "execution_count": 2,
   "metadata": {},
   "outputs": [],
   "source": [
    "import surfinBH"
   ]
  },
  {
   "cell_type": "code",
   "execution_count": 3,
   "metadata": {},
   "outputs": [],
   "source": [
    "fit_name = 'NRSur3dq8_RD'"
   ]
  },
  {
   "cell_type": "markdown",
   "metadata": {},
   "source": [
    "## Load the fit, this only needs to be done once at the start of a script"
   ]
  },
  {
   "cell_type": "code",
   "execution_count": 4,
   "metadata": {},
   "outputs": [
    {
     "name": "stdout",
     "output_type": "stream",
     "text": [
      "Loaded NRSur3dq8_RD fit.\n"
     ]
    }
   ],
   "source": [
    "fit = surfinBH.LoadFits(fit_name)"
   ]
  },
  {
   "cell_type": "markdown",
   "metadata": {},
   "source": [
    "## Read the documentation"
   ]
  },
  {
   "cell_type": "code",
   "execution_count": 5,
   "metadata": {
    "scrolled": true
   },
   "outputs": [
    {
     "name": "stdout",
     "output_type": "stream",
     "text": [
      "Help on Fit3dq8_RD in module surfinBH._fit_evaluators.fit_3dq8_RD object:\n",
      "\n",
      "class Fit3dq8_RD(surfinBH.surfinBH.SurFinBH)\n",
      " |  Fit3dq8_RD(name)\n",
      " |\n",
      " |  A class for the NRSur3dq8_RD model presented in Magana Zertuche et al.,\n",
      " |  arxiv:TODO.\n",
      " |\n",
      " |  This model predicts the final mass mf, final spin chif, and\n",
      " |  complex QNM amplitudes A_(l,m,n,p), for the remnants of\n",
      " |  nonprecessing binary black hole systems. The fits are done using\n",
      " |  Gaussian Process Regression (GPR) and also provide an error\n",
      " |  estimate along with the fit value.\n",
      " |\n",
      " |  This model has been trained in the parameter space:\n",
      " |      q <= 8, |chiAz| <= 0.8, |chiBz| <= 0.8\n",
      " |\n",
      " |  However, it extrapolates reasonably to:\n",
      " |      q <= 10, |chiAz| <= 1, |chiBz| <= 1\n",
      " |\n",
      " |  =========================================================================\n",
      " |  Usage:\n",
      " |\n",
      " |  import surfinBH\n",
      " |\n",
      " |  # Load the fit\n",
      " |  fit = surfinBH.LoadFits('NRSur3dq8_RD')\n",
      " |\n",
      " |  We provide the following call methods:\n",
      " |      # remnant mass and 1-sigma error estimate\n",
      " |      mf, mf_err = fit.mf(q, chiA, chiB, **kwargs)\n",
      " |\n",
      " |      # remnant spin and 1-sigma error estimate\n",
      " |      chif, chif_err = fit.chif(q, chiA, chiB, **kwargs)\n",
      " |\n",
      " |      # remnant mass, spin, QNM amplitudes, and error estimates\n",
      " |      mf, chif, QNM_dict, mf_err, chif_err, QNM_err_est_dict\n",
      " |          = fit.all(q, chiA, chiB, modes=mode_list,\n",
      " |                    **kwargs)\n",
      " |\n",
      " |  The arguments for each of these call methods are as follows:\n",
      " |  Arguments:\n",
      " |      q:      Mass ratio (q>=1)\n",
      " |\n",
      " |      chiA:   Dimensionless spin of the larger BH (array of size 3).\n",
      " |\n",
      " |      chiB:   Dimensionless spin of the smaller BH (array of size 3).\n",
      " |              This model allows only nonprecessing spins, so only the\n",
      " |              z-components of these arrays should be non-zero.\n",
      " |\n",
      " |  Optional arguments:\n",
      " |      modes:\n",
      " |          A list of mode labels of the form (l,m,n,p) which are a\n",
      " |          subset of the modeled modes. The default is all the\n",
      " |          modeled modes, namely\n",
      " |          modes = [ (2,2,0,1),(2,-2,0,-1),(2,2,1,1),(2,-2,1,-1),\n",
      " |                    (2,0,0,1),(2,0,0,-1),(4,4,0,1),(4,-4,0,-1),\n",
      " |                    (3,2,0,1),(3,-2,0,-1) ]\n",
      " |      allow_extrap:\n",
      " |          If False, raises a warning when q > 8.1 or |chiA|,|chiB| > 0.81,\n",
      " |              and raises an error when q > 10.1 or |chiA|,|chiB| > 1.\n",
      " |          If True, allows extrapolation to any q and |chiA|,|chiB| <= 1.\n",
      " |              Use at your own risk.\n",
      " |          Default: False.\n",
      " |\n",
      " |  The remnant spin is only the magnitude. The complex QNM amplitudes\n",
      " |  are given in the superrest frame of the remnant at 20M after the\n",
      " |  peak of the luminosity (TODO check).\n",
      " |\n",
      " |  Method resolution order:\n",
      " |      Fit3dq8_RD\n",
      " |      surfinBH.surfinBH.SurFinBH\n",
      " |      builtins.object\n",
      " |\n",
      " |  Methods defined here:\n",
      " |\n",
      " |  __init__(self, name)\n",
      " |      name: Name of the fit excluding the surfinBH prefix. Ex: 7dq2.\n",
      " |      soft_param_lims: param limits beyond which to raise a warning.\n",
      " |      hard_param_lims: param limits beyond which to raise an error.\n",
      " |      aligned_spin_only: raise an error if given precessing spins.\n",
      " |      See _fit_evaluators.fit_7dq2.py for an example.\n",
      " |\n",
      " |  all(self, *args, **kwargs)\n",
      " |      Evaluates fit and 1-sigma error estimate for remnant mass, spin\n",
      " |      and QNM amplitudes.\n",
      " |      Returns:\n",
      " |          mf, chif, QNM_dict, mf_err_est, chif_err_est, QNM_err_est_dict\n",
      " |\n",
      " |      chif and chif_err_est are only the spin magnitude.\n",
      " |\n",
      " |  vf(self, *args, **kwargs)\n",
      " |      vf is not implemented in this model.\n",
      " |\n",
      " |  ----------------------------------------------------------------------\n",
      " |  Methods inherited from surfinBH.surfinBH.SurFinBH:\n",
      " |\n",
      " |  chif(self, *args, **kwargs)\n",
      " |      Evaluates fit and 1-sigma error estimate for remnant spin.\n",
      " |      Returns:\n",
      " |          chif, chif_err_est\n",
      " |\n",
      " |      chif and chif_err_est are arrays of size 3.\n",
      " |\n",
      " |  mf(self, *args, **kwargs)\n",
      " |      Evaluates fit and 1-sigma error estimate for remnant mass.\n",
      " |      Returns:\n",
      " |          mf, mf_err_est\n",
      " |\n",
      " |  ----------------------------------------------------------------------\n",
      " |  Data descriptors inherited from surfinBH.surfinBH.SurFinBH:\n",
      " |\n",
      " |  __dict__\n",
      " |      dictionary for instance variables\n",
      " |\n",
      " |  __weakref__\n",
      " |      list of weak references to the object\n",
      "\n"
     ]
    }
   ],
   "source": [
    "help(fit)"
   ]
  },
  {
   "cell_type": "markdown",
   "metadata": {},
   "source": [
    "## Evaluate the fits"
   ]
  },
  {
   "cell_type": "code",
   "execution_count": 6,
   "metadata": {},
   "outputs": [
    {
     "name": "stdout",
     "output_type": "stream",
     "text": [
      "dict_keys([(2, 2, 0, 1), (2, -2, 0, -1), (2, 2, 1, 1), (2, -2, 1, -1), (2, 0, 0, 1), (2, 0, 0, -1), (4, 4, 0, 1), (4, -4, 0, -1), (3, 2, 0, 1), (3, -2, 0, -1)])\n"
     ]
    },
    {
     "data": {
      "text/plain": [
       "(0.12748926488933388+0.026256919397940833j)"
      ]
     },
     "execution_count": 6,
     "metadata": {},
     "output_type": "execute_result"
    }
   ],
   "source": [
    "q = 4.3             # Mass ratio q>=1\n",
    "chiA = [0,0,0.6]    # Spin of larger BH (z-direction only)\n",
    "chiB = [0,0,-0.7]   # Spin of smaller BH (z-direction only)\n",
    "\n",
    "## Evaluate the fits and GPR error estimate.\n",
    "\n",
    "# remnant mass and 1-sigma error estimate\n",
    "mf, mf_err = fit.mf(q, chiA, chiB)\n",
    "\n",
    "# remnant spin and 1-sigma error estimate\n",
    "chif, chif_err = fit.chif(q, chiA, chiB)\n",
    "\n",
    "# remnant mass, spin, and all available modes\n",
    "mf, chif, QNM_dict, mf_err, chif_err, QNM_err_dict = fit.all(q, chiA, chiB)\n",
    "print(QNM_dict.keys())\n",
    "QNM_dict[(2,2,0,1)]"
   ]
  },
  {
   "cell_type": "code",
   "execution_count": 7,
   "metadata": {},
   "outputs": [
    {
     "name": "stdout",
     "output_type": "stream",
     "text": [
      "dict_keys([(2, 2, 0, 1), (2, -2, 0, -1), (2, 0, 0, 1), (2, 0, 0, -1)])\n"
     ]
    }
   ],
   "source": [
    "# Only request a subset of modes\n",
    "modes=[ (2, 2, 0, 1), (2, -2, 0, -1), (2, 0, 0, 1), (2, 0, 0, -1) ]\n",
    "mf, chif, QNM_dict, mf_err, chif_err, QNM_err_dict = fit.all(q, chiA, chiB, modes=modes)\n",
    "print(QNM_dict.keys())"
   ]
  },
  {
   "cell_type": "markdown",
   "metadata": {},
   "source": [
    "## Reconstruct superrest frame waveform from some modes (requires `qnm` package)"
   ]
  },
  {
   "cell_type": "code",
   "execution_count": 8,
   "metadata": {},
   "outputs": [],
   "source": [
    "import numpy as np\n",
    "import matplotlib as mpl\n",
    "import matplotlib.pyplot as plt"
   ]
  },
  {
   "cell_type": "code",
   "execution_count": 9,
   "metadata": {},
   "outputs": [],
   "source": [
    "import qnm"
   ]
  },
  {
   "cell_type": "code",
   "execution_count": 10,
   "metadata": {},
   "outputs": [
    {
     "name": "stdout",
     "output_type": "stream",
     "text": [
      "Trying to fetch https://duetosymmetry.com/files/qnm/data-0.4.0.tar.bz2\n"
     ]
    },
    {
     "name": "stderr",
     "output_type": "stream",
     "text": [
      "data-0.4.0.tar.bz2: 94.6MB [00:02, 35.8MB/s]                                                                                                      \n"
     ]
    },
    {
     "name": "stdout",
     "output_type": "stream",
     "text": [
      "Trying to decompress file /home/leo/.cache/qnm/data-0.4.0.tar.bz2\n",
      "Data directory /home/leo/.cache/qnm/data contains 860 pickle files\n"
     ]
    }
   ],
   "source": [
    "qnm.download_data() # Only need to do this once"
   ]
  },
  {
   "cell_type": "code",
   "execution_count": 10,
   "metadata": {},
   "outputs": [],
   "source": [
    "from example_utils import qnm_from_tuple"
   ]
  },
  {
   "cell_type": "code",
   "execution_count": 11,
   "metadata": {},
   "outputs": [
    {
     "data": {
      "text/plain": [
       "\u001b[0;31mSignature:\u001b[0m \u001b[0mqnm_from_tuple\u001b[0m\u001b[0;34m(\u001b[0m\u001b[0mtup\u001b[0m\u001b[0;34m,\u001b[0m \u001b[0mchi\u001b[0m\u001b[0;34m,\u001b[0m \u001b[0mM\u001b[0m\u001b[0;34m,\u001b[0m \u001b[0ms\u001b[0m\u001b[0;34m=\u001b[0m\u001b[0;34m-\u001b[0m\u001b[0;36m2\u001b[0m\u001b[0;34m)\u001b[0m\u001b[0;34m\u001b[0m\u001b[0;34m\u001b[0m\u001b[0m\n",
       "\u001b[0;31mDocstring:\u001b[0m\n",
       "Get frequency and spherical-spheroidal mixing from qnm package\n",
       "\n",
       "Parameters\n",
       "----------\n",
       "tup : tuple \n",
       "    Index (ell,m,n,sign) of QNM\n",
       "\n",
       "chi : float\n",
       "    The dimensionless spin of the black hole, 0. <= chi < 1.\n",
       "\n",
       "M : float\n",
       "    The mass of the remnant black hole, M > 0.\n",
       "\n",
       "s : int, optional [Default: -2]\n",
       "\n",
       "Returns\n",
       "-------\n",
       "omega: complex\n",
       "    Frequency of QNM, in units of inverse initial total mass M\n",
       "\n",
       "C: complex ndarray\n",
       "    Spherical-spheroidal decomposition coefficient array\n",
       "\n",
       "ells: ndarray \n",
       "    List of ell values for the spherical-spheroidal mixing array\n",
       "\u001b[0;31mFile:\u001b[0m      /central/home/leo/src/surfinBH/examples/example_utils.py\n",
       "\u001b[0;31mType:\u001b[0m      function"
      ]
     },
     "metadata": {},
     "output_type": "display_data"
    }
   ],
   "source": [
    "?qnm_from_tuple"
   ]
  },
  {
   "cell_type": "code",
   "execution_count": 12,
   "metadata": {},
   "outputs": [],
   "source": [
    "q = 4.3             # Mass ratio q>=1\n",
    "chiA = [0,0,0.6]    # Spin of larger BH (z-direction only)\n",
    "chiB = [0,0,-0.7]   # Spin of smaller BH (z-direction only)\n",
    "\n",
    "mf, chif, QNM_dict, mf_err, chif_err, QNM_err_dict = fit.all(q, chiA, chiB)\n",
    "\n",
    "###\n",
    "\n",
    "# All times in units of initial M\n",
    "t     = np.arange(0., 100., 0.05)\n",
    "t_0   = 20.\n",
    "t_ref = 20.\n",
    "\n",
    "h_mode_labels = [(l,m) for l in [2,3,4] for m in np.arange(-l, l+1)]\n",
    "\n",
    "h = {}\n",
    "for (ell_prime, m_prime, n, sign), A in QNM_dict.items():\n",
    "    omega, C, ells = qnm_from_tuple((ell_prime, m_prime, n, sign), \n",
    "                                     chif, mf)\n",
    "\n",
    "    expiwt = np.exp( -1.j * omega * (t - t_ref))\n",
    "    expiwt[ t < t_0 ] = 0.\n",
    "    for h_l, h_m in h_mode_labels:\n",
    "        if (h_m == m_prime):\n",
    "            c_l = C[ells == h_l]\n",
    "            if (len(c_l) > 0):\n",
    "                c_l = c_l[0]\n",
    "                h[(h_l, h_m)] = c_l * A * expiwt + h.get((h_l, h_m), 0.)"
   ]
  },
  {
   "cell_type": "code",
   "execution_count": 15,
   "metadata": {},
   "outputs": [
    {
     "data": {
      "image/png": "[encoded data removed]",
      "text/plain": [
       "<Figure size 640x480 with 1 Axes>"
      ]
     },
     "metadata": {},
     "output_type": "display_data"
    }
   ],
   "source": [
    "# Spherical (3,2) mode contains contributions from (3,2,0,1) QNM and mixing from (2,2,0,1) QNM\n",
    "plt.plot(t, h[(2,2)].real, label='$Re[h_{2,2}]$')\n",
    "plt.plot(t, h[(3,2)].real, label='$Re[h_{3,2}]$')\n",
    "plt.xlabel('$t-t_0$')\n",
    "plt.ylabel('$h_{\\\\ell m}$')\n",
    "plt.legend()\n",
    "plt.show()"
   ]
  },
  {
   "cell_type": "code",
   "execution_count": null,
   "metadata": {},
   "outputs": [],
   "source": []
  }
 ],
 "metadata": {
  "kernelspec": {
   "display_name": "Python 3 (ipykernel)",
   "language": "python",
   "name": "python3"
  },
  "language_info": {
   "codemirror_mode": {
    "name": "ipython",
    "version": 3
   },
   "file_extension": ".py",
   "mimetype": "text/x-python",
   "name": "python",
   "nbconvert_exporter": "python",
   "pygments_lexer": "ipython3",
   "version": "3.12.2"
  }
 },
 "nbformat": 4,
 "nbformat_minor": 4
}
